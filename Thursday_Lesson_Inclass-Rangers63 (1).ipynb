{
 "cells": [
  {
   "cell_type": "markdown",
   "metadata": {},
   "source": [
    "# Object-Oriented-Programming (OOP)"
   ]
  },
  {
   "cell_type": "markdown",
   "metadata": {},
   "source": [
    "## Tasks Today:\n",
    "\n",
    "   \n",
    "\n",
    "1) <b>Creating a Class (Initializing/Declaring)</b> <br>\n",
    "2) <b>Using a Class (Instantiating)</b> <br>\n",
    " &nbsp;&nbsp;&nbsp;&nbsp; a) Creating One Instance <br>\n",
    " &nbsp;&nbsp;&nbsp;&nbsp; b) Creating Multiple Instances <br>\n",
    " &nbsp;&nbsp;&nbsp;&nbsp; c) In-Class Exercise #1 - Create a Class 'Car' and instantiate three different makes of cars <br>\n",
    "3) <b>The \\__init\\__() Method</b> <br>\n",
    " &nbsp;&nbsp;&nbsp;&nbsp; a) The 'self' Attribute <br>\n",
    "4) <b>Class Attributes</b> <br>\n",
    " &nbsp;&nbsp;&nbsp;&nbsp; a) Initializing Attributes <br>\n",
    " &nbsp;&nbsp;&nbsp;&nbsp; b) Setting an Attribute Outside of the \\__init\\__() Method <br>\n",
    " &nbsp;&nbsp;&nbsp;&nbsp; c) Setting Defaults for Attributes <br>\n",
    " &nbsp;&nbsp;&nbsp;&nbsp; d) Accessing Class Attributes <br>\n",
    " &nbsp;&nbsp;&nbsp;&nbsp; e) Changing Class Attributes <br>\n",
    " &nbsp;&nbsp;&nbsp;&nbsp; f) In-Class Exercise #2 - Add a color and wheels attribute to your 'Car' class <br>\n",
    "5) <b>Class Methods</b> <br>\n",
    " &nbsp;&nbsp;&nbsp;&nbsp; a) Creating <br>\n",
    " &nbsp;&nbsp;&nbsp;&nbsp; b) Calling <br>\n",
    " &nbsp;&nbsp;&nbsp;&nbsp; c) Modifying an Attribute's Value Through a Method <br>\n",
    " &nbsp;&nbsp;&nbsp;&nbsp; d) Incrementing an Attribute's Value Through a Method <br>\n",
    " &nbsp;&nbsp;&nbsp;&nbsp; e) In-Class Exercise #3 - Add a method that prints the cars color and wheel number, then call them <br>\n",
    "6) <b>Inheritance</b> <br>\n",
    " &nbsp;&nbsp;&nbsp;&nbsp; a) Syntax for Inheriting from a Parent Class <br>\n",
    " &nbsp;&nbsp;&nbsp;&nbsp; b) The \\__init\\__() Method for a Child Class (super()) <br>\n",
    " &nbsp;&nbsp;&nbsp;&nbsp; c) Defining Attributes and Methods for the Child Class <br>\n",
    " &nbsp;&nbsp;&nbsp;&nbsp; d) Method Overriding <br>\n",
    " &nbsp;&nbsp;&nbsp;&nbsp; e) In-Class Exercise #4 - Create a class 'Ford' that inherits from 'Car' class and initialize it as a Blue Ford Explorer with 4 wheels using the super() method <br>\n",
    "7) <b>Classes as Attributes</b> <br>\n",
    "8) <b>Exercises</b> <br>\n",
    " &nbsp;&nbsp;&nbsp;&nbsp; a) Exercise #1 - Turn the shopping cart program from yesterday into an object-oriented program <br>"
   ]
  },
  {
   "cell_type": "markdown",
   "metadata": {},
   "source": [
    "## Creating a Class (Initializing/Declaring)\n",
    "<p>When creating a class, function, or even a variable you are initializing that object. Initializing and Declaring occur at the same time in Python, whereas in lower level languages you have to declare an object before initializing it. This is the first step in the process of using a class.</p>"
   ]
  },
  {
   "cell_type": "code",
   "execution_count": 20,
   "metadata": {},
   "outputs": [
    {
     "name": "stdout",
     "output_type": "stream",
     "text": [
      "Turn them on for safety!\n",
      "None\n"
     ]
    }
   ],
   "source": [
    "class Car():\n",
    "    wheels = 4\n",
    "    color = 'blue'\n",
    "    \n",
    "    def headlights(self):\n",
    "        print(\"Turn them on for safety!\")\n",
    "        \n",
    "volkswagen = Car()\n",
    "print(volkswagen.headlights())"
   ]
  },
  {
   "cell_type": "markdown",
   "metadata": {},
   "source": [
    "## Using a Class (Instantiating)\n",
    "<p>The process of creating a class is called <i>Instantiating</i>. Each time you create a variable of that type of class, it is referred to as an <i>Instance</i> of that class. This is the second step in the process of using a class.</p>"
   ]
  },
  {
   "cell_type": "markdown",
   "metadata": {},
   "source": [
    "##### Creating One Instance"
   ]
  },
  {
   "cell_type": "code",
   "execution_count": 8,
   "metadata": {},
   "outputs": [
    {
     "name": "stdout",
     "output_type": "stream",
     "text": [
      "4\n",
      "blue\n"
     ]
    }
   ],
   "source": [
    "ford = Car()\n",
    "print(ford.wheels)\n",
    "print(ford.color)"
   ]
  },
  {
   "cell_type": "markdown",
   "metadata": {},
   "source": [
    "##### Creating Multiple Instances"
   ]
  },
  {
   "cell_type": "code",
   "execution_count": 11,
   "metadata": {},
   "outputs": [
    {
     "name": "stdout",
     "output_type": "stream",
     "text": [
      "blue\n"
     ]
    }
   ],
   "source": [
    "chevrolet = Car()\n",
    "honda = Car()\n",
    "porche = Car()\n",
    "print(porche.color)"
   ]
  },
  {
   "cell_type": "markdown",
   "metadata": {},
   "source": [
    "##### In-Class Exercise #1 - Create a Class 'Car' and Instantiate three different makes of cars"
   ]
  },
  {
   "cell_type": "code",
   "execution_count": 1,
   "metadata": {},
   "outputs": [
    {
     "name": "stdout",
     "output_type": "stream",
     "text": [
      "blue\n",
      "4\n",
      "white\n",
      "2\n",
      "black\n",
      "6\n"
     ]
    }
   ],
   "source": [
    "class Car():\n",
    "    color = \"blue\"\n",
    "    wheels = 4\n",
    "\n",
    "subaru = Car()\n",
    "toyota = Car()\n",
    "range_rover = Car()\n",
    "\n",
    "print(subaru.color)\n",
    "print(subaru.wheels)\n",
    "toyota.color = 'white'\n",
    "toyota.wheels = 2\n",
    "print(toyota.color)\n",
    "print(toyota.wheels)\n",
    "range_rover.color = 'black'\n",
    "range_rover.wheels = 6\n",
    "print(range_rover.color)\n",
    "print(range_rover.wheels)"
   ]
  },
  {
   "cell_type": "markdown",
   "metadata": {},
   "source": [
    "## The \\__init\\__() Method <br>\n",
    "<p>This method is used in almost every created class, and called only once upon the creation of the class instance. This method will initialize all variables needed for the object.</p>"
   ]
  },
  {
   "cell_type": "code",
   "execution_count": 32,
   "metadata": {},
   "outputs": [
    {
     "name": "stdout",
     "output_type": "stream",
     "text": [
      "The Mazda is black and it has 4 wheels.\n",
      "The Subaru is blue and it has 6 wheels.\n"
     ]
    }
   ],
   "source": [
    "class Car():\n",
    "    engine = '4.7L' #global within class - any method inside class can call this variable\n",
    "    \n",
    "    def __init__(self, color, wheels):\n",
    "        self.color = color\n",
    "        self.wheels = wheels\n",
    "\n",
    "mazda = Car('black', 4)\n",
    "subaru = Car('blue', 6)\n",
    "print(f\"The Mazda is {mazda.color} and it has {mazda.wheels} wheels.\")\n",
    "print(f\"The Subaru is {subaru.color} and it has {subaru.wheels} wheels.\")"
   ]
  },
  {
   "cell_type": "markdown",
   "metadata": {},
   "source": [
    "##### The 'self' Attribute <br>\n",
    "<p>This attribute is required to keep track of specific instance's attributes. Without the self attribute, the program would not know how to reference or keep track of an instance's attributes.</p>"
   ]
  },
  {
   "cell_type": "code",
   "execution_count": 50,
   "metadata": {},
   "outputs": [
    {
     "name": "stdout",
     "output_type": "stream",
     "text": [
      "Clean\n",
      "Rock on, climber!\n",
      "Your dishes are clean!\n",
      "Why on earth would you not want a rock climbing wall in your house?\n"
     ]
    }
   ],
   "source": [
    "# see above\n",
    "\n",
    "class House:\n",
    "    def __init__(self, wall, dishes):\n",
    "        self.wall = wall\n",
    "        self.dishes = dishes\n",
    "        \n",
    "    def washDishes(self):\n",
    "        if self.dishes.lower() == 'dirty':\n",
    "            return \"Clean\"\n",
    "        else:\n",
    "            return \"Your dishes are clean!\"\n",
    "    \n",
    "    def rockClimbingWall(self):\n",
    "        if self.wall.lower() == 'yes':\n",
    "            return \"Rock on, climber!\"\n",
    "        else:\n",
    "            return \"Why on earth would you not want a rock climbing wall in your house?\"\n",
    "        \n",
    "brandonHouse = House('yes', 'dirty')\n",
    "kleeHouse = House('no', 'clean')\n",
    "print(brandonHouse.washDishes())\n",
    "print(brandonHouse.rockClimbingWall())\n",
    "print(kleeHouse.washDishes())\n",
    "print(kleeHouse.rockClimbingWall())"
   ]
  },
  {
   "cell_type": "markdown",
   "metadata": {},
   "source": [
    "## Class Attributes <br>\n",
    "<p>While variables are inside of a class, they are referred to as attributes and not variables. When someone says 'attribute' you know they're speaking about a class. Attributes can be initialized through the init method, or outside of it.</p>"
   ]
  },
  {
   "cell_type": "markdown",
   "metadata": {},
   "source": [
    "##### Initializing Attributes"
   ]
  },
  {
   "cell_type": "code",
   "execution_count": 33,
   "metadata": {},
   "outputs": [],
   "source": [
    "# see above\n",
    "\n",
    "class Toy():\n",
    "    kind = 'car' #this is called a constant \n",
    "    \n",
    "    def __init__(self, rooftop, horn, wheels):\n",
    "        self.rooftop = rooftop\n",
    "        self.horn = horn\n",
    "        self.wheels = wheels\n",
    "        \n",
    "tonka_truck = Toy(1, 1, 4)\n",
    "hotwheels = Toy(2, 3, 8)"
   ]
  },
  {
   "cell_type": "markdown",
   "metadata": {},
   "source": [
    "##### Accessing Class Attributes"
   ]
  },
  {
   "cell_type": "code",
   "execution_count": 35,
   "metadata": {
    "scrolled": true
   },
   "outputs": [
    {
     "data": {
      "text/plain": [
       "8"
      ]
     },
     "execution_count": 35,
     "metadata": {},
     "output_type": "execute_result"
    }
   ],
   "source": [
    "# See Above\n",
    "\n",
    "tonka_truck.rooftop\n",
    "hotwheels.wheels"
   ]
  },
  {
   "cell_type": "markdown",
   "metadata": {},
   "source": [
    "##### Setting Defaults for Attributes"
   ]
  },
  {
   "cell_type": "code",
   "execution_count": 37,
   "metadata": {},
   "outputs": [
    {
     "data": {
      "text/plain": [
       "4"
      ]
     },
     "execution_count": 37,
     "metadata": {},
     "output_type": "execute_result"
    }
   ],
   "source": [
    "class Car():\n",
    "    engine = '4.7L'\n",
    "    \n",
    "    def __init__(self, wheels):\n",
    "        self.wheels = wheels\n",
    "        self.color = 'blue'\n",
    "        \n",
    "honda=Car(4)\n",
    "honda.color\n",
    "honda.wheels"
   ]
  },
  {
   "cell_type": "markdown",
   "metadata": {},
   "source": [
    "##### Changing Class Attributes <br>\n",
    "<p>Keep in mind there are global class attributes and then there are attributes only available to each class instance which won't effect other classes.</p>"
   ]
  },
  {
   "cell_type": "code",
   "execution_count": 38,
   "metadata": {},
   "outputs": [
    {
     "name": "stdout",
     "output_type": "stream",
     "text": [
      "Before change: blue\n",
      "After change: white\n"
     ]
    }
   ],
   "source": [
    "jeep = Car(8)\n",
    "print(f\"Before change: {jeep.color}\")\n",
    "jeep.color = 'white'\n",
    "print(f\"After change: {jeep.color}\")"
   ]
  },
  {
   "cell_type": "code",
   "execution_count": null,
   "metadata": {},
   "outputs": [],
   "source": []
  },
  {
   "cell_type": "markdown",
   "metadata": {},
   "source": [
    "##### In-Class Exercise #2 - Add a doors and seats attribute to your 'Car' class then print out two different instances with different doors and seats"
   ]
  },
  {
   "cell_type": "code",
   "execution_count": 43,
   "metadata": {},
   "outputs": [
    {
     "name": "stdout",
     "output_type": "stream",
     "text": [
      "The Subaru has 4 doors and 5 seats.\n",
      "The Ford has 6 doors and 8 seats.\n"
     ]
    }
   ],
   "source": [
    "class Car:\n",
    "    def __init__(self, make, doors, seats):\n",
    "        self.make = make\n",
    "        self.doors = doors\n",
    "        self.seats = seats\n",
    "        \n",
    "car1 = Car('subaru', 4, 5)\n",
    "car2 = Car('ford', 6, 8)\n",
    "\n",
    "print(f\"The {car1.make.title()} has {car1.doors} doors and {car1.seats} seats.\")\n",
    "print(f\"The {car2.make.title()} has {car2.doors} doors and {car2.seats} seats.\")"
   ]
  },
  {
   "cell_type": "markdown",
   "metadata": {},
   "source": [
    "## Class Methods <br>\n",
    "<p>While inside of a class, functions are referred to as 'methods'. If you hear someone mention methods, they're speaking about classes. Methods are essentially functions, but only callable on the instances of a class.</p>"
   ]
  },
  {
   "cell_type": "markdown",
   "metadata": {},
   "source": [
    "##### Creating"
   ]
  },
  {
   "cell_type": "code",
   "execution_count": 143,
   "metadata": {},
   "outputs": [],
   "source": [
    "class ShoppingBag:\n",
    "    \"\"\"\n",
    "        The ShoppingBag class will have handle, capacity and items to place inside.\n",
    "        \n",
    "        Attributes for the class:\n",
    "        - handles: expected to be an integer\n",
    "        - capacity: expected to be a string or integer\n",
    "        - items: expected to be a list\n",
    "    \"\"\"\n",
    "    \n",
    "    def __init__(self, handles, capacity, items):\n",
    "        self.handles = handles\n",
    "        self.capacity = capacity\n",
    "        self.items = items\n",
    "        \n",
    "    # Write a method that shows the items in our ShoppingBag - this is our items list\n",
    "    def showShoppingBag(self):\n",
    "        print(f\"You have {len(self.items)} item(s) in your bag!\")\n",
    "        for item in self.items:\n",
    "            print(item.upper())\n",
    "            \n",
    "    # Show the capacity of the ShoppingBag / how much room is left\n",
    "    def showCapacity(self):\n",
    "        print(f\"Your capacity is {self.capacity}.\")\n",
    "    \n",
    "    # Add items to the items list for the ShoppingBag\n",
    "    def addToShoppingBag(self):\n",
    "        products = input(\"what would you like to add? \")\n",
    "        self.items.append(products)       \n",
    "        print(f\"{products.upper()} has been added!\")\n",
    "        print(f\"You have {len(self.items)} item(s) in your bag with {self.capacity - len(self.items)} spaces left!\")\n",
    "                   \n",
    "    # Change capacity of ShoppingBag\n",
    "    def changeBagCapacity(self, capacity):\n",
    "        self.capacity = capacity\n",
    "        \n",
    "    # Increase the capacity of the ShoppingBag by a default amount we set to 10\n",
    "    def increaseCapacity(self, changed_capacity = 10):\n",
    "        if self.capacity == isinstance(self.capacity, str):\n",
    "            print(\"Entry must be a number.\")\n",
    "        else:\n",
    "            self.capacity += changed_capacity"
   ]
  },
  {
   "cell_type": "markdown",
   "metadata": {},
   "source": [
    "##### Calling"
   ]
  },
  {
   "cell_type": "code",
   "execution_count": 144,
   "metadata": {},
   "outputs": [
    {
     "name": "stdout",
     "output_type": "stream",
     "text": [
      "What do you want to do? Add/Show/Quit/Increase add\n",
      "what would you like to add? s\n",
      "S has been added!\n",
      "You have 1 item(s) in your bag with 2 spaces left!\n",
      "What do you want to do? Add/Show/Quit/Increase add\n",
      "what would you like to add? s\n",
      "S has been added!\n",
      "You have 2 item(s) in your bag with 1 spaces left!\n",
      "What do you want to do? Add/Show/Quit/Increase add\n",
      "what would you like to add? s\n",
      "S has been added!\n",
      "You have 3 item(s) in your bag with 0 spaces left!\n",
      "What do you want to do? Add/Show/Quit/Increase add\n",
      "We have increased your bag capacity by 10.\n",
      "what would you like to add? add\n",
      "ADD has been added!\n",
      "You have 4 item(s) in your bag with 9 spaces left!\n",
      "What do you want to do? Add/Show/Quit/Increase s\n",
      "Try another command.\n",
      "What do you want to do? Add/Show/Quit/Increase add\n",
      "what would you like to add? s\n",
      "S has been added!\n",
      "You have 5 item(s) in your bag with 8 spaces left!\n",
      "What do you want to do? Add/Show/Quit/Increase increase\n",
      "Your capacity has been increased by 10.\n",
      "What do you want to do? Add/Show/Quit/Increase quit\n",
      "You have 5 item(s) in your bag!\n",
      "S\n",
      "S\n",
      "S\n",
      "ADD\n",
      "S\n",
      "Thank you for shopping!\n"
     ]
    }
   ],
   "source": [
    "# See Above\n",
    "# So far we have created the idea of ShoppingBag; now we will instanciate and make one, then use it!\n",
    "\n",
    "wholeFoodsBag = ShoppingBag(2, 3, [])\n",
    "\n",
    "# Create a function to run ShoppingBag methods on our wholeFoodsBag instance\n",
    "def run():\n",
    "    while True:\n",
    "        response = input(\"What do you want to do? Add/Show/Quit/Increase(to increase bag capacity by 10) \")\n",
    "        if len(wholeFoodsBag.items) == wholeFoodsBag.capacity:\n",
    "            print(\"We have increased your bag capacity by 10.\")\n",
    "            wholeFoodsBag.increaseCapacity()\n",
    "        if response.lower() == 'quit':\n",
    "            wholeFoodsBag.showShoppingBag()\n",
    "            print(\"Thank you for shopping!\")\n",
    "            break\n",
    "        elif response.lower() == 'add':\n",
    "            wholeFoodsBag.addToShoppingBag()\n",
    "        elif response.lower() == 'show':\n",
    "            wholeFoodsBag.showShoppingBag()\n",
    "        elif response.lower() == 'increase':\n",
    "            wholeFoodsBag.increaseCapacity()\n",
    "            print(\"Your capacity has been increased by 10.\")\n",
    "        else:\n",
    "            print(\"Try another command.\")\n",
    "            \n",
    "run()"
   ]
  },
  {
   "cell_type": "markdown",
   "metadata": {},
   "source": [
    "##### Modifying an Attribute's Value Through a Method"
   ]
  },
  {
   "cell_type": "code",
   "execution_count": 83,
   "metadata": {},
   "outputs": [
    {
     "name": "stdout",
     "output_type": "stream",
     "text": [
      "Your capacity is 10.\n",
      "Capacity after change: \n",
      "Your capacity is 40.\n"
     ]
    }
   ],
   "source": [
    "# Show the capacity\n",
    "wholeFoodsBag.showCapacity()\n",
    "print(\"Capacity after change...\")\n",
    "wholeFoodsBag.changeBagCapacity(40)\n",
    "wholeFoodsBag.showCapacity()"
   ]
  },
  {
   "cell_type": "markdown",
   "metadata": {},
   "source": [
    "##### Incrementing an Attribute's Value Through a Method"
   ]
  },
  {
   "cell_type": "code",
   "execution_count": 84,
   "metadata": {},
   "outputs": [
    {
     "name": "stdout",
     "output_type": "stream",
     "text": [
      "Your capacity is 40.\n",
      "After increase...\n",
      "Your capacity is 50.\n"
     ]
    }
   ],
   "source": [
    "wholeFoodsBag.showCapacity()\n",
    "print(\"After increase...\")\n",
    "wholeFoodsBag.increaseCapacity()\n",
    "wholeFoodsBag.showCapacity()"
   ]
  },
  {
   "cell_type": "markdown",
   "metadata": {},
   "source": [
    "##### In-Class Exercise #3 - Add a method that takes in three parameters of year, doors and seats and prints out a formatted print statement with make, model, year, seats, and doors"
   ]
  },
  {
   "cell_type": "code",
   "execution_count": 154,
   "metadata": {},
   "outputs": [
    {
     "name": "stdout",
     "output_type": "stream",
     "text": [
      "What would you like to do? Build/Show/Quit build\n",
      "What is the year of your car? 2013\n",
      "How many doors does it have? 5\n",
      "How many seats does it have? 5\n",
      "Please enter 'show' to see your car!\n",
      "What would you like to do? Build/Show/Quit show\n",
      "This car is from 2013 and is a Subaru Outback with 5 doors and 5 seats.\n",
      "What would you like to do? Build/Show/Quit quit\n",
      "Thank you for playing!\n"
     ]
    }
   ],
   "source": [
    "# Create class with 2 paramters inside of the __init__ which are make and model\n",
    "\n",
    "# Inside of the Car class create a method that has 4 parameter in total (self,year,door,seats)\n",
    "\n",
    "# Output: This car is from 2019 and is a Ford Expolorer and has 4 doors and 5 seats\n",
    "\n",
    "class Car:\n",
    "    def __init__(self, make, model):\n",
    "        self.make = make\n",
    "        self.model = model\n",
    "    def carFeats(self, year, doors, seats):\n",
    "        self.year = year\n",
    "        self.doors = doors\n",
    "        self.seats = seats\n",
    "    def buildCar(self):\n",
    "        self.year = input(\"What is the year of your car? \")\n",
    "        self.doors = input(\"How many doors does it have? \")\n",
    "        self.seats = input(\"How many seats does it have? \")\n",
    "        print(\"Please enter 'show' to see your car!\")\n",
    "    def showCar(self):\n",
    "        print(f\"This car is from {self.year} and is a {self.make.title()} {self.model.title()} with {self.doors} doors and {self.seats} seats.\" )\n",
    "           \n",
    "myCar = Car('subaru', 'outback')\n",
    "\n",
    "def run():\n",
    "    while True:\n",
    "        response = input(\"What would you like to do? Build/Show/Quit \")\n",
    "        if response.lower() == 'build':\n",
    "            myCar.buildCar()\n",
    "        elif response.lower() == 'show':\n",
    "            myCar.showCar()\n",
    "        elif response.lower() == 'quit':\n",
    "            print(\"Thank you for playing!\")\n",
    "            break\n",
    "        else:\n",
    "            print(\"Try another command.\")\n",
    "            \n",
    "run()"
   ]
  },
  {
   "cell_type": "markdown",
   "metadata": {},
   "source": [
    "## Inheritance <br>\n",
    "<p>You can create a child-parent relationship between two classes by using inheritance. What this allows you to do is have overriding methods, but also inherit traits from the parent class. Think of it as an actual parent and child, the child will inherit the parent's genes, as will the classes in OOP</p>"
   ]
  },
  {
   "cell_type": "markdown",
   "metadata": {},
   "source": [
    "##### Syntax for Inheriting from a Parent Class"
   ]
  },
  {
   "cell_type": "code",
   "execution_count": 179,
   "metadata": {},
   "outputs": [
    {
     "name": "stdout",
     "output_type": "stream",
     "text": [
      "Make some generic sound.\n",
      "None\n",
      "9.8mph\n"
     ]
    }
   ],
   "source": [
    "# Create a parent class and call it Animal \n",
    "# Always use something generic so when we add child/grandchild classes, we can then be more spcific\n",
    "\n",
    "class Animal:\n",
    "    acceleration = 9.8\n",
    "    \n",
    "    def __init__(self, name, species, legs = 4):\n",
    "        self.name = name\n",
    "        self.species = species\n",
    "        self.legs = legs\n",
    "        \n",
    "    # Make generic parent method - this is not overriding anything\n",
    "    def makeSound(self):\n",
    "        print(\"Make some generic sound.\")\n",
    "\n",
    "# Now we are adding the child class... Dog\n",
    "# Must add name of parent class into child class to pull info down. In this case, we enter Animal into the Dog class\n",
    "class Dog(Animal):\n",
    "    speed = 15 # This will ONLY apply to the child class of Dog - calling for speed in Animal class will result in error\n",
    "    \n",
    "    # Make a method within the child class, this can only be used in the child class of Dog\n",
    "    def printInfo(self):\n",
    "        print(f\"The dog has a speed of {self.speed}mph with an acceleration of {self.acceleration}mph.\")\n",
    "        \n",
    "# Now we are making a grandchild class, Mutt\n",
    "# We don't want to make too many classes unless absulutely necessary; can be confusing\n",
    "def Mutt(Dog):\n",
    "    color = 'Tan'\n",
    "    \n",
    "    # Override Animal class using Dog class to overwrite the __init__\n",
    "    def __init__(self, name, species, eye_color, legs = 4):\n",
    "        Dog.__init__(self, name, species, legs)\n",
    "        self.name = name\n",
    "        self.species = species\n",
    "        self.eye_color = eye_color\n",
    "     \n",
    "    # Override makeSound method (which is coming from Animal)\n",
    "    def makeSound(self):\n",
    "        noise = 'Bark'\n",
    "        return noise\n",
    "                 \n",
    "lassie = Dog('Lassie', 'Dog')\n",
    "basicAnimal = Animal('Generic Animal Name', 'Generic Animal Species')\n",
    "buster = Mutt('Buster', 'Mutt', 'Brown')\n",
    "\n",
    "print(lassie.makeSound())\n",
    "print(basicAnimal.acceleration)   \n",
    "\n",
    "# NOTE... MY CODE LOOKS IDENTICAL TO BRANDON'S BUT FOR SOME REASON ANYTHING I TRY FOR BUSTER WILL RESULT IN ERROR. \n",
    "# PLEASE ADVISE OF THE REASON WHY WHEN YOU GRADE MY HOMEWORK! =)\n",
    "# WILL YOU ALSO ADVISE WHY 'NONE' SHOWS UP WITH THE MAKE SOME GENERIC SOUND?"
   ]
  },
  {
   "cell_type": "markdown",
   "metadata": {},
   "source": [
    "##### The \\__init\\__() Method for a Child Class - super()"
   ]
  },
  {
   "cell_type": "code",
   "execution_count": 186,
   "metadata": {
    "scrolled": true
   },
   "outputs": [
    {
     "name": "stdout",
     "output_type": "stream",
     "text": [
      "Make some generic sound.\n",
      "None\n",
      "9.8mph\n",
      "Bark\n"
     ]
    }
   ],
   "source": [
    "class Puppy(Dog):\n",
    "    color = 'black and brown'\n",
    "    \n",
    "    # Override Animal class __init__ via Dog class\n",
    "    def __init__(self, name, species, eye_color, legs = 4):\n",
    "        super().__init__(name, species, legs)\n",
    "        self.eye_color = eye_color\n",
    "        \n",
    "    # Override the makeSound method from Animal class\n",
    "    def makeSound(self):\n",
    "        noise = \"Bark\"\n",
    "        return noise\n",
    "\n",
    "lassie = Dog('Lassie', 'Dog')\n",
    "basicAnimal = Animal('Generic Animal Name', 'Generic Animal Species')\n",
    "mama = Puppy('Mama', 'Dog', 'Brown')\n",
    "\n",
    "print(lassie.makeSound())\n",
    "print(basicAnimal.acceleration)\n",
    "print(mama.makeSound())"
   ]
  },
  {
   "cell_type": "markdown",
   "metadata": {},
   "source": [
    "##### Defining Attributes and Methods for the Child Class"
   ]
  },
  {
   "cell_type": "code",
   "execution_count": null,
   "metadata": {},
   "outputs": [],
   "source": [
    "# See Above"
   ]
  },
  {
   "cell_type": "markdown",
   "metadata": {},
   "source": [
    "##### Method Overriding"
   ]
  },
  {
   "cell_type": "code",
   "execution_count": null,
   "metadata": {},
   "outputs": [],
   "source": [
    "# See Above"
   ]
  },
  {
   "cell_type": "markdown",
   "metadata": {},
   "source": [
    "## Classes as Attributes <br>\n",
    "<p>Classes can also be used as attributes within another class. This is useful in situations where you need to keep variables locally stored, instead of globally stored.</p>"
   ]
  },
  {
   "cell_type": "code",
   "execution_count": 208,
   "metadata": {},
   "outputs": [
    {
     "name": "stdout",
     "output_type": "stream",
     "text": [
      "20\n"
     ]
    },
    {
     "data": {
      "text/plain": [
       "'2019 Tesla Model X 20'"
      ]
     },
     "execution_count": 208,
     "metadata": {},
     "output_type": "execute_result"
    }
   ],
   "source": [
    "class Battery():\n",
    "    volts = 7.8\n",
    "    \n",
    "    def __init__(self, cells):\n",
    "        self.cells = cells\n",
    "        \n",
    "class Car:\n",
    "    \n",
    "    def __init__(self, year, make, model, battery):\n",
    "        self.year = year\n",
    "        self.make = make\n",
    "        self.model = model\n",
    "        self.battery = battery\n",
    "        \n",
    "    def printInfo(self):\n",
    "        return f\"{self.year} {self.make} {self.model} {self.battery.cells}\"\n",
    "        \n",
    "\n",
    "myBattery = Battery(20)\n",
    "tesla = Car(2019, 'Tesla', 'Model X', myBattery)\n",
    "\n",
    "print(tesla.battery.cells)\n",
    "tesla.printInfo()"
   ]
  },
  {
   "cell_type": "markdown",
   "metadata": {},
   "source": [
    "# Exercises"
   ]
  },
  {
   "cell_type": "markdown",
   "metadata": {},
   "source": [
    "### Exercise 1 - Turn the shopping cart program from yesterday into an object-oriented program\n",
    "\n",
    "The comments in the cell below are there as a guide for thinking about the problem. However, if you feel a different way is best for you and your own thought process, please do what feels best for you by all means."
   ]
  },
  {
   "cell_type": "code",
   "execution_count": 2,
   "metadata": {},
   "outputs": [
    {
     "name": "stdout",
     "output_type": "stream",
     "text": [
      "What would you like to do? Add/Show/Quit add\n",
      "What item would you like to add? apples\n",
      "apples has been added to your cart\n",
      "What would you like to do? Add/Show/Quit show\n",
      "You have 1 in your cart\n",
      "apples\n",
      "What would you like to do? Add/Show/Quit quit\n",
      "Thank you for shopping\n"
     ]
    }
   ],
   "source": [
    "# Create a class called cart that retains items and has methods to add, remove, and show\n",
    "\n",
    "class Cart():\n",
    "    def __init__(self, item, size = 'large'):\n",
    "        self.item = item\n",
    "        self.size = size\n",
    "    def addItem(self):\n",
    "        product = input(\"What item would you like to add? \")\n",
    "        self.item.append(product)\n",
    "        print(f\"{product} has been added to your cart\")\n",
    "    def removeItem(self):\n",
    "        product = input(\"What item would you like to remove? \")\n",
    "        self.item.pop(product)\n",
    "        print(f\"{product} has been removed from your cart\")\n",
    "    def showCart(self):\n",
    "        print(f\"You have {len(self.item)} in your cart\")\n",
    "        for item in self.item:\n",
    "            print(item)\n",
    "            \n",
    "myCart = Cart([])\n",
    "\n",
    "def run():\n",
    "    while True:\n",
    "        response = input(\"What would you like to do? Add/Show/Quit \")\n",
    "        if response.lower() == 'add':\n",
    "            myCart.addItem()\n",
    "        elif response.lower() == 'show':\n",
    "            myCart.showCart()\n",
    "        elif response.lower() == 'quit':\n",
    "            print(\"Thank you for shopping\")\n",
    "            break\n",
    "        else:\n",
    "            print(\"Try another command\")\n",
    "run()"
   ]
  },
  {
   "cell_type": "markdown",
   "metadata": {},
   "source": [
    "### Exercise 2 - Write a Python class which has two methods get_String and print_String. get_String accept a string from the user and print_String print the string in upper case"
   ]
  },
  {
   "cell_type": "code",
   "execution_count": 3,
   "metadata": {},
   "outputs": [
    {
     "name": "stdout",
     "output_type": "stream",
     "text": [
      "Enter your string here: hi\n",
      "HI\n"
     ]
    }
   ],
   "source": [
    "class String():\n",
    "    \n",
    "    def get_string(self):\n",
    "        self.my_string = input(\"Enter your string here: \")\n",
    "    \n",
    "    def print_string(self):\n",
    "        print(self.my_string.upper())\n",
    "        \n",
    "my_string = String()\n",
    "my_string.get_string()\n",
    "my_string.print_string()"
   ]
  },
  {
   "cell_type": "code",
   "execution_count": null,
   "metadata": {},
   "outputs": [],
   "source": []
  }
 ],
 "metadata": {
  "kernelspec": {
   "display_name": "Python 3 (ipykernel)",
   "language": "python",
   "name": "python3"
  },
  "language_info": {
   "codemirror_mode": {
    "name": "ipython",
    "version": 3
   },
   "file_extension": ".py",
   "mimetype": "text/x-python",
   "name": "python",
   "nbconvert_exporter": "python",
   "pygments_lexer": "ipython3",
   "version": "3.10.9"
  }
 },
 "nbformat": 4,
 "nbformat_minor": 2
}
